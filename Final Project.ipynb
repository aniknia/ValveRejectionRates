{
 "cells": [
  {
   "cell_type": "code",
   "execution_count": 2,
   "metadata": {},
   "outputs": [],
   "source": [
    "using DataFrames #for data wrangling\n",
    "using StatsPlots #for plotting\n",
    "using Turing #for MCMC\n",
    "using CSV #CSV import\n",
    "using Random #data generation (if required)"
   ]
  },
  {
   "cell_type": "markdown",
   "metadata": {},
   "source": [
    "Import Data"
   ]
  },
  {
   "cell_type": "code",
   "execution_count": 3,
   "metadata": {},
   "outputs": [
    {
     "data": {
      "text/html": [
       "<div><div style = \"float: left;\"><span>19×8 DataFrame</span></div><div style = \"clear: both;\"></div></div><div class = \"data-frame\" style = \"overflow-x: scroll;\"><table class = \"data-frame\" style = \"margin-bottom: 6px;\"><thead><tr class = \"header\"><th class = \"rowNumber\" style = \"font-weight: bold; text-align: right;\">Row</th><th style = \"text-align: left;\">Vendor</th><th style = \"text-align: left;\">Population</th><th style = \"text-align: left;\">Rejected</th><th style = \"text-align: left;\">High Pop</th><th style = \"text-align: left;\">% Over Set</th><th style = \"text-align: left;\">% Over Limit</th><th style = \"text-align: left;\">Set Pressure</th><th style = \"text-align: left;\">Service</th></tr><tr class = \"subheader headerLastRow\"><th class = \"rowNumber\" style = \"font-weight: bold; text-align: right;\"></th><th title = \"String1\" style = \"text-align: left;\">String1</th><th title = \"Int64\" style = \"text-align: left;\">Int64</th><th title = \"Int64\" style = \"text-align: left;\">Int64</th><th title = \"Int64\" style = \"text-align: left;\">Int64</th><th title = \"String7\" style = \"text-align: left;\">String7</th><th title = \"String7\" style = \"text-align: left;\">String7</th><th title = \"Union{Missing, Int64}\" style = \"text-align: left;\">Int64?</th><th title = \"String15\" style = \"text-align: left;\">String15</th></tr></thead><tbody><tr><td class = \"rowNumber\" style = \"font-weight: bold; text-align: right;\">1</td><td style = \"text-align: left;\">a</td><td style = \"text-align: right;\">9</td><td style = \"text-align: right;\">2</td><td style = \"text-align: right;\">1</td><td style = \"text-align: left;\">10.00%</td><td style = \"text-align: left;\">4.30%</td><td style = \"text-align: right;\">35</td><td style = \"text-align: left;\">steam</td></tr><tr><td class = \"rowNumber\" style = \"font-weight: bold; text-align: right;\">2</td><td style = \"text-align: left;\">b</td><td style = \"text-align: right;\">13</td><td style = \"text-align: right;\">0</td><td style = \"text-align: right;\">0</td><td style = \"text-align: left;\">0.00%</td><td style = \"text-align: left;\">0.00%</td><td style = \"font-style: italic; text-align: right;\">missing</td><td style = \"text-align: left;\">air</td></tr><tr><td class = \"rowNumber\" style = \"font-weight: bold; text-align: right;\">3</td><td style = \"text-align: left;\">c</td><td style = \"text-align: right;\">85</td><td style = \"text-align: right;\">1</td><td style = \"text-align: right;\">1</td><td style = \"text-align: left;\">13.00%</td><td style = \"text-align: left;\">9.70%</td><td style = \"text-align: right;\">175</td><td style = \"text-align: left;\">steam</td></tr><tr><td class = \"rowNumber\" style = \"font-weight: bold; text-align: right;\">4</td><td style = \"text-align: left;\">d</td><td style = \"text-align: right;\">108</td><td style = \"text-align: right;\">21</td><td style = \"text-align: right;\">4</td><td style = \"text-align: left;\">4.50%</td><td style = \"text-align: left;\">1.50%</td><td style = \"text-align: right;\">350</td><td style = \"text-align: left;\">air</td></tr><tr><td class = \"rowNumber\" style = \"font-weight: bold; text-align: right;\">5</td><td style = \"text-align: left;\">e</td><td style = \"text-align: right;\">1</td><td style = \"text-align: right;\">0</td><td style = \"text-align: right;\">0</td><td style = \"text-align: left;\">0.00%</td><td style = \"text-align: left;\">0.00%</td><td style = \"font-style: italic; text-align: right;\">missing</td><td style = \"text-align: left;\">na</td></tr><tr><td class = \"rowNumber\" style = \"font-weight: bold; text-align: right;\">6</td><td style = \"text-align: left;\">f</td><td style = \"text-align: right;\">55</td><td style = \"text-align: right;\">9</td><td style = \"text-align: right;\">2</td><td style = \"text-align: left;\">5.50%</td><td style = \"text-align: left;\">2.50%</td><td style = \"text-align: right;\">400</td><td style = \"text-align: left;\">liquid</td></tr><tr><td class = \"rowNumber\" style = \"font-weight: bold; text-align: right;\">7</td><td style = \"text-align: left;\">g</td><td style = \"text-align: right;\">41</td><td style = \"text-align: right;\">5</td><td style = \"text-align: right;\">2</td><td style = \"text-align: left;\">6.70%</td><td style = \"text-align: left;\">3.30%</td><td style = \"text-align: right;\">165</td><td style = \"text-align: left;\">steam</td></tr><tr><td class = \"rowNumber\" style = \"font-weight: bold; text-align: right;\">8</td><td style = \"text-align: left;\">h</td><td style = \"text-align: right;\">2</td><td style = \"text-align: right;\">0</td><td style = \"text-align: right;\">0</td><td style = \"text-align: left;\">0.00%</td><td style = \"text-align: left;\">0.00%</td><td style = \"font-style: italic; text-align: right;\">missing</td><td style = \"text-align: left;\">air</td></tr><tr><td class = \"rowNumber\" style = \"font-weight: bold; text-align: right;\">9</td><td style = \"text-align: left;\">z</td><td style = \"text-align: right;\">40</td><td style = \"text-align: right;\">6</td><td style = \"text-align: right;\">1</td><td style = \"text-align: left;\">24.00%</td><td style = \"text-align: left;\">20.00%</td><td style = \"text-align: right;\">165</td><td style = \"text-align: left;\">steam</td></tr><tr><td class = \"rowNumber\" style = \"font-weight: bold; text-align: right;\">10</td><td style = \"text-align: left;\">k</td><td style = \"text-align: right;\">1</td><td style = \"text-align: right;\">0</td><td style = \"text-align: right;\">0</td><td style = \"text-align: left;\">0.00%</td><td style = \"text-align: left;\">0.00%</td><td style = \"font-style: italic; text-align: right;\">missing</td><td style = \"text-align: left;\">steam</td></tr><tr><td class = \"rowNumber\" style = \"font-weight: bold; text-align: right;\">11</td><td style = \"text-align: left;\">y</td><td style = \"text-align: right;\">66</td><td style = \"text-align: right;\">4</td><td style = \"text-align: right;\">4</td><td style = \"text-align: left;\">6.00%</td><td style = \"text-align: left;\">3.00%</td><td style = \"text-align: right;\">100</td><td style = \"text-align: left;\">air</td></tr><tr><td class = \"rowNumber\" style = \"font-weight: bold; text-align: right;\">12</td><td style = \"text-align: left;\">m</td><td style = \"text-align: right;\">54</td><td style = \"text-align: right;\">6</td><td style = \"text-align: right;\">1</td><td style = \"text-align: left;\">27.00%</td><td style = \"text-align: left;\">24.00%</td><td style = \"text-align: right;\">75</td><td style = \"text-align: left;\">air/liquid</td></tr><tr><td class = \"rowNumber\" style = \"font-weight: bold; text-align: right;\">13</td><td style = \"text-align: left;\">m</td><td style = \"text-align: right;\">14</td><td style = \"text-align: right;\">7</td><td style = \"text-align: right;\">3</td><td style = \"text-align: left;\">10.00%</td><td style = \"text-align: left;\">3.00%</td><td style = \"text-align: right;\">80</td><td style = \"text-align: left;\">steam</td></tr><tr><td class = \"rowNumber\" style = \"font-weight: bold; text-align: right;\">14</td><td style = \"text-align: left;\">n</td><td style = \"text-align: right;\">1</td><td style = \"text-align: right;\">0</td><td style = \"text-align: right;\">0</td><td style = \"text-align: left;\">0.00%</td><td style = \"text-align: left;\">0.00%</td><td style = \"font-style: italic; text-align: right;\">missing</td><td style = \"text-align: left;\">na</td></tr><tr><td class = \"rowNumber\" style = \"font-weight: bold; text-align: right;\">15</td><td style = \"text-align: left;\">o</td><td style = \"text-align: right;\">3</td><td style = \"text-align: right;\">0</td><td style = \"text-align: right;\">0</td><td style = \"text-align: left;\">0.00%</td><td style = \"text-align: left;\">0.00%</td><td style = \"font-style: italic; text-align: right;\">missing</td><td style = \"text-align: left;\">air</td></tr><tr><td class = \"rowNumber\" style = \"font-weight: bold; text-align: right;\">16</td><td style = \"text-align: left;\">p</td><td style = \"text-align: right;\">3</td><td style = \"text-align: right;\">0</td><td style = \"text-align: right;\">0</td><td style = \"text-align: left;\">0.00%</td><td style = \"text-align: left;\">0.00%</td><td style = \"font-style: italic; text-align: right;\">missing</td><td style = \"text-align: left;\">liquid</td></tr><tr><td class = \"rowNumber\" style = \"font-weight: bold; text-align: right;\">17</td><td style = \"text-align: left;\">r</td><td style = \"text-align: right;\">38</td><td style = \"text-align: right;\">7</td><td style = \"text-align: right;\">1</td><td style = \"text-align: left;\">6.80%</td><td style = \"text-align: left;\">4.00%</td><td style = \"text-align: right;\">250</td><td style = \"text-align: left;\">liquid</td></tr><tr><td class = \"rowNumber\" style = \"font-weight: bold; text-align: right;\">18</td><td style = \"text-align: left;\">s</td><td style = \"text-align: right;\">8</td><td style = \"text-align: right;\">0</td><td style = \"text-align: right;\">0</td><td style = \"text-align: left;\">0.00%</td><td style = \"text-align: left;\">0.00%</td><td style = \"font-style: italic; text-align: right;\">missing</td><td style = \"text-align: left;\">air</td></tr><tr><td class = \"rowNumber\" style = \"font-weight: bold; text-align: right;\">19</td><td style = \"text-align: left;\">x</td><td style = \"text-align: right;\">18</td><td style = \"text-align: right;\">2</td><td style = \"text-align: right;\">1</td><td style = \"text-align: left;\">6.30%</td><td style = \"text-align: left;\">1.20%</td><td style = \"text-align: right;\">175</td><td style = \"text-align: left;\">air</td></tr></tbody></table></div>"
      ],
      "text/latex": [
       "\\begin{tabular}{r|cccccccc}\n",
       "\t& Vendor & Population & Rejected & High Pop & \\% Over Set & \\% Over Limit & Set Pressure & \\\\\n",
       "\t\\hline\n",
       "\t& String1 & Int64 & Int64 & Int64 & String7 & String7 & Int64? & \\\\\n",
       "\t\\hline\n",
       "\t1 & a & 9 & 2 & 1 & 10.00\\% & 4.30\\% & 35 & $\\dots$ \\\\\n",
       "\t2 & b & 13 & 0 & 0 & 0.00\\% & 0.00\\% & \\emph{missing} & $\\dots$ \\\\\n",
       "\t3 & c & 85 & 1 & 1 & 13.00\\% & 9.70\\% & 175 & $\\dots$ \\\\\n",
       "\t4 & d & 108 & 21 & 4 & 4.50\\% & 1.50\\% & 350 & $\\dots$ \\\\\n",
       "\t5 & e & 1 & 0 & 0 & 0.00\\% & 0.00\\% & \\emph{missing} & $\\dots$ \\\\\n",
       "\t6 & f & 55 & 9 & 2 & 5.50\\% & 2.50\\% & 400 & $\\dots$ \\\\\n",
       "\t7 & g & 41 & 5 & 2 & 6.70\\% & 3.30\\% & 165 & $\\dots$ \\\\\n",
       "\t8 & h & 2 & 0 & 0 & 0.00\\% & 0.00\\% & \\emph{missing} & $\\dots$ \\\\\n",
       "\t9 & z & 40 & 6 & 1 & 24.00\\% & 20.00\\% & 165 & $\\dots$ \\\\\n",
       "\t10 & k & 1 & 0 & 0 & 0.00\\% & 0.00\\% & \\emph{missing} & $\\dots$ \\\\\n",
       "\t11 & y & 66 & 4 & 4 & 6.00\\% & 3.00\\% & 100 & $\\dots$ \\\\\n",
       "\t12 & m & 54 & 6 & 1 & 27.00\\% & 24.00\\% & 75 & $\\dots$ \\\\\n",
       "\t13 & m & 14 & 7 & 3 & 10.00\\% & 3.00\\% & 80 & $\\dots$ \\\\\n",
       "\t14 & n & 1 & 0 & 0 & 0.00\\% & 0.00\\% & \\emph{missing} & $\\dots$ \\\\\n",
       "\t15 & o & 3 & 0 & 0 & 0.00\\% & 0.00\\% & \\emph{missing} & $\\dots$ \\\\\n",
       "\t16 & p & 3 & 0 & 0 & 0.00\\% & 0.00\\% & \\emph{missing} & $\\dots$ \\\\\n",
       "\t17 & r & 38 & 7 & 1 & 6.80\\% & 4.00\\% & 250 & $\\dots$ \\\\\n",
       "\t18 & s & 8 & 0 & 0 & 0.00\\% & 0.00\\% & \\emph{missing} & $\\dots$ \\\\\n",
       "\t19 & x & 18 & 2 & 1 & 6.30\\% & 1.20\\% & 175 & $\\dots$ \\\\\n",
       "\\end{tabular}\n"
      ],
      "text/plain": [
       "\u001b[1m19×8 DataFrame\u001b[0m\n",
       "\u001b[1m Row \u001b[0m│\u001b[1m Vendor  \u001b[0m\u001b[1m Population \u001b[0m\u001b[1m Rejected \u001b[0m\u001b[1m High Pop \u001b[0m\u001b[1m % Over Set \u001b[0m\u001b[1m % Over Limit \u001b[0m\u001b[1m Set \u001b[0m ⋯\n",
       "     │\u001b[90m String1 \u001b[0m\u001b[90m Int64      \u001b[0m\u001b[90m Int64    \u001b[0m\u001b[90m Int64    \u001b[0m\u001b[90m String7    \u001b[0m\u001b[90m String7      \u001b[0m\u001b[90m Int6\u001b[0m ⋯\n",
       "─────┼──────────────────────────────────────────────────────────────────────────\n",
       "   1 │ a                 9         2         1  10.00%      4.30%              ⋯\n",
       "   2 │ b                13         0         0  0.00%       0.00%        \u001b[90m     \u001b[0m\n",
       "   3 │ c                85         1         1  13.00%      9.70%\n",
       "   4 │ d               108        21         4  4.50%       1.50%\n",
       "   5 │ e                 1         0         0  0.00%       0.00%        \u001b[90m     \u001b[0m ⋯\n",
       "   6 │ f                55         9         2  5.50%       2.50%\n",
       "   7 │ g                41         5         2  6.70%       3.30%\n",
       "   8 │ h                 2         0         0  0.00%       0.00%        \u001b[90m     \u001b[0m\n",
       "  ⋮  │    ⋮         ⋮          ⋮         ⋮          ⋮            ⋮             ⋱\n",
       "  13 │ m                14         7         3  10.00%      3.00%              ⋯\n",
       "  14 │ n                 1         0         0  0.00%       0.00%        \u001b[90m     \u001b[0m\n",
       "  15 │ o                 3         0         0  0.00%       0.00%        \u001b[90m     \u001b[0m\n",
       "  16 │ p                 3         0         0  0.00%       0.00%        \u001b[90m     \u001b[0m\n",
       "  17 │ r                38         7         1  6.80%       4.00%              ⋯\n",
       "  18 │ s                 8         0         0  0.00%       0.00%        \u001b[90m     \u001b[0m\n",
       "  19 │ x                18         2         1  6.30%       1.20%\n",
       "\u001b[36m                                                    2 columns and 4 rows omitted\u001b[0m"
      ]
     },
     "metadata": {},
     "output_type": "display_data"
    }
   ],
   "source": [
    "#this is a local document, but i've also saved a slightly cleaned up version in github with the same \"valveTestRaw\" title\n",
    "valveData = CSV.read(\"./Results of New Valve Tests.csv\", DataFrame)"
   ]
  },
  {
   "cell_type": "markdown",
   "metadata": {},
   "source": [
    "Collect Number of Trials & Separate into Service Mediums"
   ]
  },
  {
   "cell_type": "code",
   "execution_count": 4,
   "metadata": {},
   "outputs": [
    {
     "data": {
      "text/html": [
       "<div><div style = \"float: left;\"><span>6×8 DataFrame</span></div><div style = \"clear: both;\"></div></div><div class = \"data-frame\" style = \"overflow-x: scroll;\"><table class = \"data-frame\" style = \"margin-bottom: 6px;\"><thead><tr class = \"header\"><th class = \"rowNumber\" style = \"font-weight: bold; text-align: right;\">Row</th><th style = \"text-align: left;\">Vendor</th><th style = \"text-align: left;\">Population</th><th style = \"text-align: left;\">Rejected</th><th style = \"text-align: left;\">High Pop</th><th style = \"text-align: left;\">% Over Set</th><th style = \"text-align: left;\">% Over Limit</th><th style = \"text-align: left;\">Set Pressure</th><th style = \"text-align: left;\">Service</th></tr><tr class = \"subheader headerLastRow\"><th class = \"rowNumber\" style = \"font-weight: bold; text-align: right;\"></th><th title = \"String1\" style = \"text-align: left;\">String1</th><th title = \"Int64\" style = \"text-align: left;\">Int64</th><th title = \"Int64\" style = \"text-align: left;\">Int64</th><th title = \"Int64\" style = \"text-align: left;\">Int64</th><th title = \"String7\" style = \"text-align: left;\">String7</th><th title = \"String7\" style = \"text-align: left;\">String7</th><th title = \"Union{Missing, Int64}\" style = \"text-align: left;\">Int64?</th><th title = \"String15\" style = \"text-align: left;\">String15</th></tr></thead><tbody><tr><td class = \"rowNumber\" style = \"font-weight: bold; text-align: right;\">1</td><td style = \"text-align: left;\">a</td><td style = \"text-align: right;\">9</td><td style = \"text-align: right;\">2</td><td style = \"text-align: right;\">1</td><td style = \"text-align: left;\">10.00%</td><td style = \"text-align: left;\">4.30%</td><td style = \"text-align: right;\">35</td><td style = \"text-align: left;\">steam</td></tr><tr><td class = \"rowNumber\" style = \"font-weight: bold; text-align: right;\">2</td><td style = \"text-align: left;\">c</td><td style = \"text-align: right;\">85</td><td style = \"text-align: right;\">1</td><td style = \"text-align: right;\">1</td><td style = \"text-align: left;\">13.00%</td><td style = \"text-align: left;\">9.70%</td><td style = \"text-align: right;\">175</td><td style = \"text-align: left;\">steam</td></tr><tr><td class = \"rowNumber\" style = \"font-weight: bold; text-align: right;\">3</td><td style = \"text-align: left;\">g</td><td style = \"text-align: right;\">41</td><td style = \"text-align: right;\">5</td><td style = \"text-align: right;\">2</td><td style = \"text-align: left;\">6.70%</td><td style = \"text-align: left;\">3.30%</td><td style = \"text-align: right;\">165</td><td style = \"text-align: left;\">steam</td></tr><tr><td class = \"rowNumber\" style = \"font-weight: bold; text-align: right;\">4</td><td style = \"text-align: left;\">z</td><td style = \"text-align: right;\">40</td><td style = \"text-align: right;\">6</td><td style = \"text-align: right;\">1</td><td style = \"text-align: left;\">24.00%</td><td style = \"text-align: left;\">20.00%</td><td style = \"text-align: right;\">165</td><td style = \"text-align: left;\">steam</td></tr><tr><td class = \"rowNumber\" style = \"font-weight: bold; text-align: right;\">5</td><td style = \"text-align: left;\">k</td><td style = \"text-align: right;\">1</td><td style = \"text-align: right;\">0</td><td style = \"text-align: right;\">0</td><td style = \"text-align: left;\">0.00%</td><td style = \"text-align: left;\">0.00%</td><td style = \"font-style: italic; text-align: right;\">missing</td><td style = \"text-align: left;\">steam</td></tr><tr><td class = \"rowNumber\" style = \"font-weight: bold; text-align: right;\">6</td><td style = \"text-align: left;\">m</td><td style = \"text-align: right;\">14</td><td style = \"text-align: right;\">7</td><td style = \"text-align: right;\">3</td><td style = \"text-align: left;\">10.00%</td><td style = \"text-align: left;\">3.00%</td><td style = \"text-align: right;\">80</td><td style = \"text-align: left;\">steam</td></tr></tbody></table></div>"
      ],
      "text/latex": [
       "\\begin{tabular}{r|cccccccc}\n",
       "\t& Vendor & Population & Rejected & High Pop & \\% Over Set & \\% Over Limit & Set Pressure & \\\\\n",
       "\t\\hline\n",
       "\t& String1 & Int64 & Int64 & Int64 & String7 & String7 & Int64? & \\\\\n",
       "\t\\hline\n",
       "\t1 & a & 9 & 2 & 1 & 10.00\\% & 4.30\\% & 35 & $\\dots$ \\\\\n",
       "\t2 & c & 85 & 1 & 1 & 13.00\\% & 9.70\\% & 175 & $\\dots$ \\\\\n",
       "\t3 & g & 41 & 5 & 2 & 6.70\\% & 3.30\\% & 165 & $\\dots$ \\\\\n",
       "\t4 & z & 40 & 6 & 1 & 24.00\\% & 20.00\\% & 165 & $\\dots$ \\\\\n",
       "\t5 & k & 1 & 0 & 0 & 0.00\\% & 0.00\\% & \\emph{missing} & $\\dots$ \\\\\n",
       "\t6 & m & 14 & 7 & 3 & 10.00\\% & 3.00\\% & 80 & $\\dots$ \\\\\n",
       "\\end{tabular}\n"
      ],
      "text/plain": [
       "\u001b[1m6×8 DataFrame\u001b[0m\n",
       "\u001b[1m Row \u001b[0m│\u001b[1m Vendor  \u001b[0m\u001b[1m Population \u001b[0m\u001b[1m Rejected \u001b[0m\u001b[1m High Pop \u001b[0m\u001b[1m % Over Set \u001b[0m\u001b[1m % Over Limit \u001b[0m\u001b[1m Set \u001b[0m ⋯\n",
       "     │\u001b[90m String1 \u001b[0m\u001b[90m Int64      \u001b[0m\u001b[90m Int64    \u001b[0m\u001b[90m Int64    \u001b[0m\u001b[90m String7    \u001b[0m\u001b[90m String7      \u001b[0m\u001b[90m Int6\u001b[0m ⋯\n",
       "─────┼──────────────────────────────────────────────────────────────────────────\n",
       "   1 │ a                 9         2         1  10.00%      4.30%              ⋯\n",
       "   2 │ c                85         1         1  13.00%      9.70%\n",
       "   3 │ g                41         5         2  6.70%       3.30%\n",
       "   4 │ z                40         6         1  24.00%      20.00%\n",
       "   5 │ k                 1         0         0  0.00%       0.00%        \u001b[90m     \u001b[0m ⋯\n",
       "   6 │ m                14         7         3  10.00%      3.00%\n",
       "\u001b[36m                                                               2 columns omitted\u001b[0m"
      ]
     },
     "metadata": {},
     "output_type": "display_data"
    }
   ],
   "source": [
    "# vendors = (collect(valveData[:,1]))\n",
    "# n=0\n",
    "# for i in 1:length(vendors)\n",
    "#     n = valveData[i, 2] + n\n",
    "# end\n",
    "# n\n",
    "\n",
    "steamDF = []\n",
    "airDF = []\n",
    "liquidDF = []\n",
    "airLiqDF = []\n",
    "\n",
    "steamDF = filter(:Service => ==(\"steam\"), valveData)\n",
    "airDF = filter(:Service => ==(\"air\"), valveData)\n",
    "liquidDF = filter(:Service => ==(\"liquid\"), valveData)\n",
    "airLiqDF = filter(:Service => ==(\"air/liquid\"), valveData)\n",
    "naDF = filter(:Service => ==(\"na\"), valveData)\n",
    "\n",
    "n_steam = 0\n",
    "n_air = 0\n",
    "n_liquid = 0\n",
    "n_airLiq = 0\n",
    "n_na = 0\n",
    "\n",
    "steamVend = (collect(steamDF[:,1]))\n",
    "for i in 1:length(steamVend)\n",
    "    n_steam = steamDF[i,2] +n_steam\n",
    "end\n",
    "\n",
    "airVend = (collect(airDF[:,1]))\n",
    "for i in 1:length(airVend)\n",
    "    n_air = airDF[i,2] +n_air\n",
    "end\n",
    "\n",
    "liquidVend = (collect(liquidDF[:,1]))\n",
    "for i in 1:length(liquidVend)\n",
    "    n_liquid = liquidDF[i,2] +n_liquid\n",
    "end\n",
    "\n",
    "airLiqVend = (collect(airLiqDF[:,1]))\n",
    "for i in 1:length(airLiqVend)\n",
    "    n_airLiq = airLiqDF[i,2] +n_airLiq\n",
    "end\n",
    "\n",
    "naVend = (collect(naDF[:,1]))\n",
    "for i in 1:length(naVend)\n",
    "    n_na = naDF[i,2]+n_na\n",
    "end\n",
    "\n",
    "steamDF"
   ]
  },
  {
   "cell_type": "markdown",
   "metadata": {},
   "source": [
    "Set Up Model"
   ]
  },
  {
   "cell_type": "code",
   "execution_count": 5,
   "metadata": {},
   "outputs": [
    {
     "data": {
      "text/plain": [
       "valveTesting (generic function with 2 methods)"
      ]
     },
     "metadata": {},
     "output_type": "display_data"
    }
   ],
   "source": [
    "@model function valveTesting(Vendors, Population, Rejects, highPops, serviceMedium)\n",
    "    #additional functionality can be added to this, especially when considering that the probability of failing (p-1) is the sum of the probability of failing on a low pop (less dangerous) & a high pop (more dangerous)      \n",
    "    \n",
    "    \n",
    "    #hyper prior\n",
    "        μ ~ Beta(4, 2)\n",
    "        σ ~ Exponential(1)\n",
    "    \n",
    "\n",
    "    for i in 1:length(Vendors)\n",
    "        \n",
    "        #prior\n",
    "        p[i] ~ Normal(μ, σ)\n",
    "        #distribution of valves passing given pass probability p and n trials\n",
    "        valvePass[i] ~ Binomial(n, p[i])\n",
    "    end\n",
    "end"
   ]
  },
  {
   "cell_type": "code",
   "execution_count": null,
   "metadata": {},
   "outputs": [
    {
     "ename": "MethodError",
     "evalue": "MethodError: no method matching valveTesting(::Vector{String1}, ::Vector{Int64})\nThe function `valveTesting` exists, but no method is defined for this combination of argument types.\n\nClosest candidates are:\n  valveTesting(::Any, ::Any, !Matched::Any, !Matched::Any, !Matched::Any)\n   @ Main ~/Documents/dev/ValveRejectionRates/jl_notebook_cell_df34fa98e69747e1a8f8a730347b8e2f_W6sZmlsZQ==.jl:1\n  valveTesting(!Matched::DynamicPPL.Model, !Matched::DynamicPPL.AbstractVarInfo, !Matched::AbstractPPL.AbstractContext, !Matched::Any, !Matched::Any, !Matched::Any, !Matched::Any, !Matched::Any)\n   @ Main ~/Documents/dev/ValveRejectionRates/jl_notebook_cell_df34fa98e69747e1a8f8a730347b8e2f_W6sZmlsZQ==.jl:1\n",
     "output_type": "error",
     "traceback": [
      "MethodError: no method matching valveTesting(::Vector{String1}, ::Vector{Int64})\n",
      "The function `valveTesting` exists, but no method is defined for this combination of argument types.\n",
      "\n",
      "Closest candidates are:\n",
      "  valveTesting(::Any, ::Any, !Matched::Any, !Matched::Any, !Matched::Any)\n",
      "   @ Main ~/Documents/dev/ValveRejectionRates/jl_notebook_cell_df34fa98e69747e1a8f8a730347b8e2f_W6sZmlsZQ==.jl:1\n",
      "  valveTesting(!Matched::DynamicPPL.Model, !Matched::DynamicPPL.AbstractVarInfo, !Matched::AbstractPPL.AbstractContext, !Matched::Any, !Matched::Any, !Matched::Any, !Matched::Any, !Matched::Any)\n",
      "   @ Main ~/Documents/dev/ValveRejectionRates/jl_notebook_cell_df34fa98e69747e1a8f8a730347b8e2f_W6sZmlsZQ==.jl:1\n",
      "\n",
      "\n",
      "Stacktrace:\n",
      " [1] top-level scope\n",
      "   @ ~/Documents/dev/ValveRejectionRates/jl_notebook_cell_df34fa98e69747e1a8f8a730347b8e2f_X10sZmlsZQ==.jl:1"
     ]
    }
   ],
   "source": [
    "steam_model = valveTesting(steamDF[:,1], steamDF[:,2], steamDF[:,4])"
   ]
  }
 ],
 "metadata": {
  "kernelspec": {
   "display_name": "Julia 1.11.2",
   "language": "julia",
   "name": "julia-1.11"
  },
  "language_info": {
   "file_extension": ".jl",
   "mimetype": "application/julia",
   "name": "julia",
   "version": "1.11.2"
  }
 },
 "nbformat": 4,
 "nbformat_minor": 2
}
