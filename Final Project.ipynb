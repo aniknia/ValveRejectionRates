{
 "cells": [
  {
   "cell_type": "code",
   "execution_count": null,
   "metadata": {},
   "outputs": [],
   "source": [
    "using DataFrames #for data wrangling\n",
    "using StatsPlots #for plotting\n",
    "using Turing #for MCMC\n",
    "using CSV #CSV import\n",
    "using Random #data generation (if required)"
   ]
  },
  {
   "cell_type": "markdown",
   "metadata": {},
   "source": [
    "Import Data"
   ]
  },
  {
   "cell_type": "code",
   "execution_count": null,
   "metadata": {},
   "outputs": [
    {
     "data": {
      "text/html": [
       "<div><div style = \"float: left;\"><span>19×8 DataFrame</span></div><div style = \"clear: both;\"></div></div><div class = \"data-frame\" style = \"overflow-x: scroll;\"><table class = \"data-frame\" style = \"margin-bottom: 6px;\"><thead><tr class = \"header\"><th class = \"rowNumber\" style = \"font-weight: bold; text-align: right;\">Row</th><th style = \"text-align: left;\">Vendor</th><th style = \"text-align: left;\">Population</th><th style = \"text-align: left;\">Rejected</th><th style = \"text-align: left;\">High Pop</th><th style = \"text-align: left;\">% Over Set</th><th style = \"text-align: left;\">% Over Limit</th><th style = \"text-align: left;\">Set Pressure</th><th style = \"text-align: left;\">Service</th></tr><tr class = \"subheader headerLastRow\"><th class = \"rowNumber\" style = \"font-weight: bold; text-align: right;\"></th><th title = \"String1\" style = \"text-align: left;\">String1</th><th title = \"Int64\" style = \"text-align: left;\">Int64</th><th title = \"Int64\" style = \"text-align: left;\">Int64</th><th title = \"Int64\" style = \"text-align: left;\">Int64</th><th title = \"Float64\" style = \"text-align: left;\">Float64</th><th title = \"String7\" style = \"text-align: left;\">String7</th><th title = \"Union{Missing, Int64}\" style = \"text-align: left;\">Int64?</th><th title = \"String15\" style = \"text-align: left;\">String15</th></tr></thead><tbody><tr><td class = \"rowNumber\" style = \"font-weight: bold; text-align: right;\">1</td><td style = \"text-align: left;\">a</td><td style = \"text-align: right;\">9</td><td style = \"text-align: right;\">2</td><td style = \"text-align: right;\">1</td><td style = \"text-align: right;\">0.1</td><td style = \"text-align: left;\">4.3%</td><td style = \"text-align: right;\">35</td><td style = \"text-align: left;\">steam</td></tr><tr><td class = \"rowNumber\" style = \"font-weight: bold; text-align: right;\">2</td><td style = \"text-align: left;\">b</td><td style = \"text-align: right;\">13</td><td style = \"text-align: right;\">0</td><td style = \"text-align: right;\">0</td><td style = \"text-align: right;\">0.0</td><td style = \"text-align: left;\">0.0%</td><td style = \"font-style: italic; text-align: right;\">missing</td><td style = \"text-align: left;\">air</td></tr><tr><td class = \"rowNumber\" style = \"font-weight: bold; text-align: right;\">3</td><td style = \"text-align: left;\">c</td><td style = \"text-align: right;\">85</td><td style = \"text-align: right;\">1</td><td style = \"text-align: right;\">1</td><td style = \"text-align: right;\">0.13</td><td style = \"text-align: left;\">9.7%</td><td style = \"text-align: right;\">175</td><td style = \"text-align: left;\">steam</td></tr><tr><td class = \"rowNumber\" style = \"font-weight: bold; text-align: right;\">4</td><td style = \"text-align: left;\">d</td><td style = \"text-align: right;\">108</td><td style = \"text-align: right;\">21</td><td style = \"text-align: right;\">4</td><td style = \"text-align: right;\">0.05</td><td style = \"text-align: left;\">1.5%</td><td style = \"text-align: right;\">350</td><td style = \"text-align: left;\">air</td></tr><tr><td class = \"rowNumber\" style = \"font-weight: bold; text-align: right;\">5</td><td style = \"text-align: left;\">e</td><td style = \"text-align: right;\">1</td><td style = \"text-align: right;\">0</td><td style = \"text-align: right;\">0</td><td style = \"text-align: right;\">0.0</td><td style = \"text-align: left;\">0.0%</td><td style = \"font-style: italic; text-align: right;\">missing</td><td style = \"text-align: left;\">na</td></tr><tr><td class = \"rowNumber\" style = \"font-weight: bold; text-align: right;\">6</td><td style = \"text-align: left;\">f</td><td style = \"text-align: right;\">55</td><td style = \"text-align: right;\">9</td><td style = \"text-align: right;\">2</td><td style = \"text-align: right;\">0.06</td><td style = \"text-align: left;\">2.5%</td><td style = \"text-align: right;\">400</td><td style = \"text-align: left;\">liquid</td></tr><tr><td class = \"rowNumber\" style = \"font-weight: bold; text-align: right;\">7</td><td style = \"text-align: left;\">g</td><td style = \"text-align: right;\">41</td><td style = \"text-align: right;\">5</td><td style = \"text-align: right;\">2</td><td style = \"text-align: right;\">0.07</td><td style = \"text-align: left;\">3.3%</td><td style = \"text-align: right;\">165</td><td style = \"text-align: left;\">steam</td></tr><tr><td class = \"rowNumber\" style = \"font-weight: bold; text-align: right;\">8</td><td style = \"text-align: left;\">h</td><td style = \"text-align: right;\">2</td><td style = \"text-align: right;\">0</td><td style = \"text-align: right;\">0</td><td style = \"text-align: right;\">0.0</td><td style = \"text-align: left;\">0.0%</td><td style = \"font-style: italic; text-align: right;\">missing</td><td style = \"text-align: left;\">air</td></tr><tr><td class = \"rowNumber\" style = \"font-weight: bold; text-align: right;\">9</td><td style = \"text-align: left;\">z</td><td style = \"text-align: right;\">40</td><td style = \"text-align: right;\">6</td><td style = \"text-align: right;\">1</td><td style = \"text-align: right;\">0.24</td><td style = \"text-align: left;\">20.0%</td><td style = \"text-align: right;\">165</td><td style = \"text-align: left;\">steam</td></tr><tr><td class = \"rowNumber\" style = \"font-weight: bold; text-align: right;\">10</td><td style = \"text-align: left;\">k</td><td style = \"text-align: right;\">1</td><td style = \"text-align: right;\">0</td><td style = \"text-align: right;\">0</td><td style = \"text-align: right;\">0.0</td><td style = \"text-align: left;\">0.0%</td><td style = \"font-style: italic; text-align: right;\">missing</td><td style = \"text-align: left;\">steam</td></tr><tr><td class = \"rowNumber\" style = \"font-weight: bold; text-align: right;\">11</td><td style = \"text-align: left;\">y</td><td style = \"text-align: right;\">66</td><td style = \"text-align: right;\">4</td><td style = \"text-align: right;\">4</td><td style = \"text-align: right;\">0.06</td><td style = \"text-align: left;\">3.0%</td><td style = \"text-align: right;\">100</td><td style = \"text-align: left;\">air</td></tr><tr><td class = \"rowNumber\" style = \"font-weight: bold; text-align: right;\">12</td><td style = \"text-align: left;\">m</td><td style = \"text-align: right;\">54</td><td style = \"text-align: right;\">6</td><td style = \"text-align: right;\">1</td><td style = \"text-align: right;\">0.27</td><td style = \"text-align: left;\">24.0%</td><td style = \"text-align: right;\">75</td><td style = \"text-align: left;\">air/liquid</td></tr><tr><td class = \"rowNumber\" style = \"font-weight: bold; text-align: right;\">13</td><td style = \"text-align: left;\">m</td><td style = \"text-align: right;\">14</td><td style = \"text-align: right;\">7</td><td style = \"text-align: right;\">3</td><td style = \"text-align: right;\">0.1</td><td style = \"text-align: left;\">3.0%</td><td style = \"text-align: right;\">80</td><td style = \"text-align: left;\">steam</td></tr><tr><td class = \"rowNumber\" style = \"font-weight: bold; text-align: right;\">14</td><td style = \"text-align: left;\">n</td><td style = \"text-align: right;\">1</td><td style = \"text-align: right;\">0</td><td style = \"text-align: right;\">0</td><td style = \"text-align: right;\">0.0</td><td style = \"text-align: left;\">0.0%</td><td style = \"font-style: italic; text-align: right;\">missing</td><td style = \"text-align: left;\">na</td></tr><tr><td class = \"rowNumber\" style = \"font-weight: bold; text-align: right;\">15</td><td style = \"text-align: left;\">o</td><td style = \"text-align: right;\">3</td><td style = \"text-align: right;\">0</td><td style = \"text-align: right;\">0</td><td style = \"text-align: right;\">0.0</td><td style = \"text-align: left;\">0.0%</td><td style = \"font-style: italic; text-align: right;\">missing</td><td style = \"text-align: left;\">air</td></tr><tr><td class = \"rowNumber\" style = \"font-weight: bold; text-align: right;\">16</td><td style = \"text-align: left;\">p</td><td style = \"text-align: right;\">3</td><td style = \"text-align: right;\">0</td><td style = \"text-align: right;\">0</td><td style = \"text-align: right;\">0.0</td><td style = \"text-align: left;\">0.0%</td><td style = \"font-style: italic; text-align: right;\">missing</td><td style = \"text-align: left;\">liquid</td></tr><tr><td class = \"rowNumber\" style = \"font-weight: bold; text-align: right;\">17</td><td style = \"text-align: left;\">r</td><td style = \"text-align: right;\">38</td><td style = \"text-align: right;\">7</td><td style = \"text-align: right;\">1</td><td style = \"text-align: right;\">0.07</td><td style = \"text-align: left;\">4.0%</td><td style = \"text-align: right;\">250</td><td style = \"text-align: left;\">liquid</td></tr><tr><td class = \"rowNumber\" style = \"font-weight: bold; text-align: right;\">18</td><td style = \"text-align: left;\">s</td><td style = \"text-align: right;\">8</td><td style = \"text-align: right;\">0</td><td style = \"text-align: right;\">0</td><td style = \"text-align: right;\">0.0</td><td style = \"text-align: left;\">0.0%</td><td style = \"font-style: italic; text-align: right;\">missing</td><td style = \"text-align: left;\">air</td></tr><tr><td class = \"rowNumber\" style = \"font-weight: bold; text-align: right;\">19</td><td style = \"text-align: left;\">x</td><td style = \"text-align: right;\">18</td><td style = \"text-align: right;\">2</td><td style = \"text-align: right;\">1</td><td style = \"text-align: right;\">0.06</td><td style = \"text-align: left;\">1.2%</td><td style = \"text-align: right;\">175</td><td style = \"text-align: left;\">air</td></tr></tbody></table></div>"
      ],
      "text/latex": [
       "\\begin{tabular}{r|cccccccc}\n",
       "\t& Vendor & Population & Rejected & High Pop & \\% Over Set & \\% Over Limit & Set Pressure & \\\\\n",
       "\t\\hline\n",
       "\t& String1 & Int64 & Int64 & Int64 & Float64 & String7 & Int64? & \\\\\n",
       "\t\\hline\n",
       "\t1 & a & 9 & 2 & 1 & 0.1 & 4.3\\% & 35 & $\\dots$ \\\\\n",
       "\t2 & b & 13 & 0 & 0 & 0.0 & 0.0\\% & \\emph{missing} & $\\dots$ \\\\\n",
       "\t3 & c & 85 & 1 & 1 & 0.13 & 9.7\\% & 175 & $\\dots$ \\\\\n",
       "\t4 & d & 108 & 21 & 4 & 0.05 & 1.5\\% & 350 & $\\dots$ \\\\\n",
       "\t5 & e & 1 & 0 & 0 & 0.0 & 0.0\\% & \\emph{missing} & $\\dots$ \\\\\n",
       "\t6 & f & 55 & 9 & 2 & 0.06 & 2.5\\% & 400 & $\\dots$ \\\\\n",
       "\t7 & g & 41 & 5 & 2 & 0.07 & 3.3\\% & 165 & $\\dots$ \\\\\n",
       "\t8 & h & 2 & 0 & 0 & 0.0 & 0.0\\% & \\emph{missing} & $\\dots$ \\\\\n",
       "\t9 & z & 40 & 6 & 1 & 0.24 & 20.0\\% & 165 & $\\dots$ \\\\\n",
       "\t10 & k & 1 & 0 & 0 & 0.0 & 0.0\\% & \\emph{missing} & $\\dots$ \\\\\n",
       "\t11 & y & 66 & 4 & 4 & 0.06 & 3.0\\% & 100 & $\\dots$ \\\\\n",
       "\t12 & m & 54 & 6 & 1 & 0.27 & 24.0\\% & 75 & $\\dots$ \\\\\n",
       "\t13 & m & 14 & 7 & 3 & 0.1 & 3.0\\% & 80 & $\\dots$ \\\\\n",
       "\t14 & n & 1 & 0 & 0 & 0.0 & 0.0\\% & \\emph{missing} & $\\dots$ \\\\\n",
       "\t15 & o & 3 & 0 & 0 & 0.0 & 0.0\\% & \\emph{missing} & $\\dots$ \\\\\n",
       "\t16 & p & 3 & 0 & 0 & 0.0 & 0.0\\% & \\emph{missing} & $\\dots$ \\\\\n",
       "\t17 & r & 38 & 7 & 1 & 0.07 & 4.0\\% & 250 & $\\dots$ \\\\\n",
       "\t18 & s & 8 & 0 & 0 & 0.0 & 0.0\\% & \\emph{missing} & $\\dots$ \\\\\n",
       "\t19 & x & 18 & 2 & 1 & 0.06 & 1.2\\% & 175 & $\\dots$ \\\\\n",
       "\\end{tabular}\n"
      ],
      "text/plain": [
       "\u001b[1m19×8 DataFrame\u001b[0m\n",
       "\u001b[1m Row \u001b[0m│\u001b[1m Vendor  \u001b[0m\u001b[1m Population \u001b[0m\u001b[1m Rejected \u001b[0m\u001b[1m High Pop \u001b[0m\u001b[1m % Over Set \u001b[0m\u001b[1m % Over Limit \u001b[0m\u001b[1m Set \u001b[0m ⋯\n",
       "     │\u001b[90m String1 \u001b[0m\u001b[90m Int64      \u001b[0m\u001b[90m Int64    \u001b[0m\u001b[90m Int64    \u001b[0m\u001b[90m Float64    \u001b[0m\u001b[90m String7      \u001b[0m\u001b[90m Int6\u001b[0m ⋯\n",
       "─────┼──────────────────────────────────────────────────────────────────────────\n",
       "   1 │ a                 9         2         1        0.1   4.3%               ⋯\n",
       "   2 │ b                13         0         0        0.0   0.0%         \u001b[90m     \u001b[0m\n",
       "   3 │ c                85         1         1        0.13  9.7%\n",
       "   4 │ d               108        21         4        0.05  1.5%\n",
       "   5 │ e                 1         0         0        0.0   0.0%         \u001b[90m     \u001b[0m ⋯\n",
       "   6 │ f                55         9         2        0.06  2.5%\n",
       "   7 │ g                41         5         2        0.07  3.3%\n",
       "   8 │ h                 2         0         0        0.0   0.0%         \u001b[90m     \u001b[0m\n",
       "  ⋮  │    ⋮         ⋮          ⋮         ⋮          ⋮            ⋮             ⋱\n",
       "  13 │ m                14         7         3        0.1   3.0%               ⋯\n",
       "  14 │ n                 1         0         0        0.0   0.0%         \u001b[90m     \u001b[0m\n",
       "  15 │ o                 3         0         0        0.0   0.0%         \u001b[90m     \u001b[0m\n",
       "  16 │ p                 3         0         0        0.0   0.0%         \u001b[90m     \u001b[0m\n",
       "  17 │ r                38         7         1        0.07  4.0%               ⋯\n",
       "  18 │ s                 8         0         0        0.0   0.0%         \u001b[90m     \u001b[0m\n",
       "  19 │ x                18         2         1        0.06  1.2%\n",
       "\u001b[36m                                                    2 columns and 4 rows omitted\u001b[0m"
      ]
     },
     "metadata": {},
     "output_type": "display_data"
    }
   ],
   "source": [
    "#this is a local document, but i've also saved a slightly cleaned up version in github with the same \"valveTestRaw\" title\n",
    "valveData = CSV.read(raw\"C:\\Users\\flemm\\Documents\\Grad School\\MAE 298 (Bayesian Statistics)\\Homework\\Final Project\\valveTestRaw.csv\", DataFrame)"
   ]
  },
  {
   "cell_type": "markdown",
   "metadata": {},
   "source": [
    "Collect Number of Trials"
   ]
  },
  {
   "cell_type": "code",
   "execution_count": 16,
   "metadata": {},
   "outputs": [
    {
     "data": {
      "text/plain": [
       "560"
      ]
     },
     "metadata": {},
     "output_type": "display_data"
    }
   ],
   "source": [
    "vendors = (collect(valveData[:,1]))\n",
    "n=0\n",
    "for i in 1:length(vendors)\n",
    "    n = valveData[i, 2] + n\n",
    "end\n",
    "n"
   ]
  },
  {
   "cell_type": "markdown",
   "metadata": {},
   "source": [
    "Set Up Model"
   ]
  },
  {
   "cell_type": "code",
   "execution_count": null,
   "metadata": {},
   "outputs": [
    {
     "data": {
      "text/plain": [
       "valveTesting (generic function with 2 methods)"
      ]
     },
     "metadata": {},
     "output_type": "display_data"
    }
   ],
   "source": [
    "@model function valveTesting(Vendor, Population, Rejects, highPops, serviceMedium)\n",
    "\n",
    "    #hyperpriors\n",
    "    #somehow, p should depend on the service medium... perhaps it could be normally distributed with a subtractive penalty based on service medium?\n",
    "          \n",
    "    #hyper prior\n",
    "        μ ~ Beta(4, 2)\n",
    "        σ ~ Expoential(1)\n",
    "    \n",
    "\n",
    "   #NOTE: INCLUSION OF 2 \"M\" VENDORS MESSES THIS UP FOR RIGHT NOW\n",
    "    for i in 1:length(vendors)\n",
    "        \n",
    "        #prior\n",
    "        p[i] ~ Normal(μ, σ)\n",
    "        #if medium is air\n",
    "            #some low penalty, exponential with λ = 1?\n",
    "        #if medium is water\n",
    "            #some higher penalty, exponential with λ = 0.5?\n",
    "        #if medium is steam\n",
    "            #some highest penalty, exponential with λ = 0.25?\n",
    "\n",
    "        pass[i] = p[i] - mediumPenalty[i]\n",
    "\n",
    "        #distribution of valves passing given pass probability p and n trials\n",
    "        valvePass[i] ~ Binomial(n, pass[i])\n",
    "    end\n",
    "end"
   ]
  }
 ],
 "metadata": {
  "kernelspec": {
   "display_name": "Julia 1.11.2",
   "language": "julia",
   "name": "julia-1.11"
  },
  "language_info": {
   "file_extension": ".jl",
   "mimetype": "application/julia",
   "name": "julia",
   "version": "1.11.2"
  }
 },
 "nbformat": 4,
 "nbformat_minor": 2
}
