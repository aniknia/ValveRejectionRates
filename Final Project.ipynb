{
 "cells": [
  {
   "cell_type": "code",
   "execution_count": 1,
   "metadata": {},
   "outputs": [],
   "source": [
    "using DataFrames #for data wrangling\n",
    "using StatsPlots #for plotting\n",
    "using Turing #for MCMC\n",
    "using CSV #CSV import\n",
    "using Random #data generation (if required)\n",
    "using Distributions\n",
    "using LogExpFunctions #for logistic function"
   ]
  },
  {
   "cell_type": "markdown",
   "metadata": {},
   "source": [
    "Import Data"
   ]
  },
  {
   "cell_type": "code",
   "execution_count": null,
   "metadata": {},
   "outputs": [],
   "source": [
    "#this is a local document, but i've also saved a slightly cleaned up version in github with the same \"valveTestRaw\" title\n",
    "valveData = CSV.read(\"./Results of New Valve Tests.csv\", DataFrame)"
   ]
  },
  {
   "cell_type": "markdown",
   "metadata": {},
   "source": [
    "Collect Number of Trials & Separate into Service Mediums"
   ]
  },
  {
   "cell_type": "code",
   "execution_count": null,
   "metadata": {},
   "outputs": [],
   "source": [
    "# vendors = (collect(valveData[:,1]))\n",
    "# n=0\n",
    "# for i in 1:length(vendors)\n",
    "#     n = valveData[i, 2] + n\n",
    "# end\n",
    "# n\n",
    "\n",
    "steamDF = []\n",
    "airDF = []\n",
    "liquidDF = []\n",
    "airLiqDF = []\n",
    "\n",
    "steamDF = filter(:Service => ==(\"steam\"), valveData)\n",
    "airDF = filter(:Service => ==(\"air\"), valveData)\n",
    "liquidDF = filter(:Service => ==(\"liquid\"), valveData)\n",
    "airLiqDF = filter(:Service => ==(\"air/liquid\"), valveData)\n",
    "naDF = filter(:Service => ==(\"na\"), valveData)\n",
    "\n",
    "n_steam = 0\n",
    "n_air = 0\n",
    "n_liquid = 0\n",
    "n_airLiq = 0\n",
    "n_na = 0\n",
    "\n",
    "steamVend = (collect(steamDF[:,1]))\n",
    "for i in 1:length(steamVend)\n",
    "    n_steam = steamDF[i,2] +n_steam\n",
    "end\n",
    "\n",
    "airVend = (collect(airDF[:,1]))\n",
    "for i in 1:length(airVend)\n",
    "    n_air = airDF[i,2] +n_air\n",
    "end\n",
    "\n",
    "liquidVend = (collect(liquidDF[:,1]))\n",
    "for i in 1:length(liquidVend)\n",
    "    n_liquid = liquidDF[i,2] +n_liquid\n",
    "end\n",
    "\n",
    "airLiqVend = (collect(airLiqDF[:,1]))\n",
    "for i in 1:length(airLiqVend)\n",
    "    n_airLiq = airLiqDF[i,2] +n_airLiq\n",
    "end\n",
    "\n",
    "naVend = (collect(naDF[:,1]))\n",
    "for i in 1:length(naVend)\n",
    "    n_na = naDF[i,2]+n_na\n",
    "end\n",
    "\n",
    "steamDF"
   ]
  },
  {
   "cell_type": "markdown",
   "metadata": {},
   "source": [
    "Set Up Model"
   ]
  },
  {
   "cell_type": "code",
   "execution_count": null,
   "metadata": {},
   "outputs": [],
   "source": [
    "@model function valveTesting(Vendors, Population, rejects) # highpops serviceMedium)\n",
    "    #additional functionality can be added to this, especially when considering that the probability of failing (p-1) is the sum of the probability of failing on a low pop (less dangerous) & a high pop (more dangerous)      \n",
    "    \n",
    "    \n",
    "    #hyper prior\n",
    "        μ_bar ~ Normal(0, 1.5)\n",
    "        σ ~ Exponential(1)\n",
    "    \n",
    "        μ = Vector{Real}(undef, length(Vendors))\n",
    "       # n = Vector{Real}(undef, length(Vendors))\n",
    "        valvePass = Vector{Real}(undef, length(Vendors))\n",
    "\n",
    "    for i in 1:length(Vendors)\n",
    "        μ[i] ~ Normal(μ_bar, σ)\n",
    "    end\n",
    "\n",
    "    for i in 1:length(Vendors)\n",
    "        \n",
    "        #prior\n",
    "        n = Population[i]\n",
    "        p = logistic(μ[i])\n",
    "        #valvePass[i] ~ Normal(μ, σ)\n",
    "        #distribution of valves passing given pass probability p and n trials\n",
    "        valvePass[i] ~ Binomial(n, p)\n",
    "        #valvePass[i] ~ Normal(μ, σ)\n",
    "    end\n",
    "end"
   ]
  },
  {
   "cell_type": "code",
   "execution_count": null,
   "metadata": {},
   "outputs": [],
   "source": [
    "steam_model = valveTesting(steamDF[:,1], steamDF[:,2], steamDF[:,3])\n",
    "\n",
    "steam_posterior = sample(steam_model, NUTS(), 1000)"
   ]
  },
  {
   "cell_type": "code",
   "execution_count": null,
   "metadata": {},
   "outputs": [],
   "source": [
    "postDF = DataFrame(steam_posterior)\n",
    "\n"
   ]
  },
  {
   "cell_type": "code",
   "execution_count": null,
   "metadata": {},
   "outputs": [],
   "source": [
    "histogram(postDF[:, 5])"
   ]
  },
  {
   "cell_type": "code",
   "execution_count": null,
   "metadata": {},
   "outputs": [],
   "source": [
    "histogram(postDF[:, 6])"
   ]
  }
 ],
 "metadata": {
  "kernelspec": {
   "display_name": "Julia 1.11.2",
   "language": "julia",
   "name": "julia-1.11"
  },
  "language_info": {
   "file_extension": ".jl",
   "mimetype": "application/julia",
   "name": "julia",
   "version": "1.11.2"
  }
 },
 "nbformat": 4,
 "nbformat_minor": 2
}
