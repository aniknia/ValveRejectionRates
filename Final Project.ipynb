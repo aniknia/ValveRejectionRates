{
 "cells": [
  {
   "cell_type": "code",
   "execution_count": 16,
   "metadata": {},
   "outputs": [
    {
     "ename": "ArgumentError",
     "evalue": "ArgumentError: Package DataFrames not found in current path.\n- Run `import Pkg; Pkg.add(\"DataFrames\")` to install the DataFrames package.",
     "output_type": "error",
     "traceback": [
      "ArgumentError: Package DataFrames not found in current path.\n",
      "- Run `import Pkg; Pkg.add(\"DataFrames\")` to install the DataFrames package.\n",
      "\n",
      "Stacktrace:\n",
      "  [1] macro expansion\n",
      "    @ .\\loading.jl:2296 [inlined]\n",
      "  [2] macro expansion\n",
      "    @ .\\lock.jl:273 [inlined]\n",
      "  [3] __require(into::Module, mod::Symbol)\n",
      "    @ Base .\\loading.jl:2271\n",
      "  [4] #invoke_in_world#3\n",
      "    @ .\\essentials.jl:1089 [inlined]\n",
      "  [5] invoke_in_world\n",
      "    @ .\\essentials.jl:1086 [inlined]\n",
      "  [6] require(into::Module, mod::Symbol)\n",
      "    @ Base .\\loading.jl:2260\n",
      "  [7] eval\n",
      "    @ .\\boot.jl:430 [inlined]\n",
      "  [8] include_string(mapexpr::typeof(REPL.softscope), mod::Module, code::String, filename::String)\n",
      "    @ Base .\\loading.jl:2734\n",
      "  [9] #invokelatest#2\n",
      "    @ .\\essentials.jl:1055 [inlined]\n",
      " [10] invokelatest\n",
      "    @ .\\essentials.jl:1052 [inlined]\n",
      " [11] (::VSCodeServer.var\"#217#218\"{VSCodeServer.NotebookRunCellArguments, String})()\n",
      "    @ VSCodeServer c:\\Users\\flemm\\.vscode\\extensions\\julialang.language-julia-1.127.2\\scripts\\packages\\VSCodeServer\\src\\serve_notebook.jl:24\n",
      " [12] withpath(f::VSCodeServer.var\"#217#218\"{VSCodeServer.NotebookRunCellArguments, String}, path::String)\n",
      "    @ VSCodeServer c:\\Users\\flemm\\.vscode\\extensions\\julialang.language-julia-1.127.2\\scripts\\packages\\VSCodeServer\\src\\repl.jl:276\n",
      " [13] notebook_runcell_request(conn::VSCodeServer.JSONRPC.JSONRPCEndpoint{Base.PipeEndpoint, Base.PipeEndpoint}, params::VSCodeServer.NotebookRunCellArguments)\n",
      "    @ VSCodeServer c:\\Users\\flemm\\.vscode\\extensions\\julialang.language-julia-1.127.2\\scripts\\packages\\VSCodeServer\\src\\serve_notebook.jl:13\n",
      " [14] dispatch_msg(x::VSCodeServer.JSONRPC.JSONRPCEndpoint{Base.PipeEndpoint, Base.PipeEndpoint}, dispatcher::VSCodeServer.JSONRPC.MsgDispatcher, msg::Dict{String, Any})\n",
      "    @ VSCodeServer.JSONRPC c:\\Users\\flemm\\.vscode\\extensions\\julialang.language-julia-1.127.2\\scripts\\packages\\JSONRPC\\src\\typed.jl:67\n",
      " [15] serve_notebook(pipename::String, debugger_pipename::String, outputchannel_logger::Base.CoreLogging.SimpleLogger; error_handler::var\"#5#10\"{String})\n",
      "    @ VSCodeServer c:\\Users\\flemm\\.vscode\\extensions\\julialang.language-julia-1.127.2\\scripts\\packages\\VSCodeServer\\src\\serve_notebook.jl:147\n",
      " [16] top-level scope\n",
      "    @ c:\\Users\\flemm\\.vscode\\extensions\\julialang.language-julia-1.127.2\\scripts\\notebook\\notebook.jl:35"
     ]
    }
   ],
   "source": [
    "using DataFrames #for data wrangling\n",
    "using StatsPlots #for plotting\n",
    "using Turing #for MCMC\n",
    "using CSV #CSV import\n",
    "using Random #data generation (if required)"
   ]
  },
  {
   "cell_type": "markdown",
   "metadata": {},
   "source": [
    "Import Data"
   ]
  },
  {
   "cell_type": "code",
   "execution_count": 17,
   "metadata": {},
   "outputs": [
    {
     "ename": "UndefVarError",
     "evalue": "UndefVarError: `CSV` not defined in `Main`\nSuggestion: check for spelling errors or missing imports.",
     "output_type": "error",
     "traceback": [
      "UndefVarError: `CSV` not defined in `Main`\n",
      "Suggestion: check for spelling errors or missing imports.\n",
      "\n",
      "Stacktrace:\n",
      " [1] top-level scope\n",
      "   @ c:\\Users\\flemm\\Documents\\Grad School\\MAE 298 (Bayesian Statistics)\\Homework\\Final Project\\Project Git\\ValveRejectionRates\\jl_notebook_cell_df34fa98e69747e1a8f8a730347b8e2f_X23sZmlsZQ==.jl:2"
     ]
    }
   ],
   "source": [
    "#this is a local document, but i've also saved a slightly cleaned up version in github with the same \"valveTestRaw\" title\n",
    "valveData = CSV.read(\"./Results of New Valve Tests.csv\", DataFrame)"
   ]
  },
  {
   "cell_type": "markdown",
   "metadata": {},
   "source": [
    "Collect Number of Trials & Separate into Service Mediums"
   ]
  },
  {
   "cell_type": "code",
   "execution_count": 18,
   "metadata": {},
   "outputs": [
    {
     "ename": "UndefVarError",
     "evalue": "UndefVarError: `valveData` not defined in `Main`\nSuggestion: check for spelling errors or missing imports.",
     "output_type": "error",
     "traceback": [
      "UndefVarError: `valveData` not defined in `Main`\n",
      "Suggestion: check for spelling errors or missing imports.\n",
      "\n",
      "Stacktrace:\n",
      " [1] top-level scope\n",
      "   @ c:\\Users\\flemm\\Documents\\Grad School\\MAE 298 (Bayesian Statistics)\\Homework\\Final Project\\Project Git\\ValveRejectionRates\\jl_notebook_cell_df34fa98e69747e1a8f8a730347b8e2f_X25sZmlsZQ==.jl:13"
     ]
    }
   ],
   "source": [
    "# vendors = (collect(valveData[:,1]))\n",
    "# n=0\n",
    "# for i in 1:length(vendors)\n",
    "#     n = valveData[i, 2] + n\n",
    "# end\n",
    "# n\n",
    "\n",
    "steamDF = []\n",
    "airDF = []\n",
    "liquidDF = []\n",
    "airLiqDF = []\n",
    "\n",
    "steamDF = filter(:Service => ==(\"steam\"), valveData)\n",
    "airDF = filter(:Service => ==(\"air\"), valveData)\n",
    "liquidDF = filter(:Service => ==(\"liquid\"), valveData)\n",
    "airLiqDF = filter(:Service => ==(\"air/liquid\"), valveData)\n",
    "naDF = filter(:Service => ==(\"na\"), valveData)\n",
    "\n",
    "n_steam = 0\n",
    "n_air = 0\n",
    "n_liquid = 0\n",
    "n_airLiq = 0\n",
    "n_na = 0\n",
    "\n",
    "steamVend = (collect(steamDF[:,1]))\n",
    "for i in 1:length(steamVend)\n",
    "    n_steam = steamDF[i,2] +n_steam\n",
    "end\n",
    "\n",
    "airVend = (collect(airDF[:,1]))\n",
    "for i in 1:length(airVend)\n",
    "    n_air = airDF[i,2] +n_air\n",
    "end\n",
    "\n",
    "liquidVend = (collect(liquidDF[:,1]))\n",
    "for i in 1:length(liquidVend)\n",
    "    n_liquid = liquidDF[i,2] +n_liquid\n",
    "end\n",
    "\n",
    "airLiqVend = (collect(airLiqDF[:,1]))\n",
    "for i in 1:length(airLiqVend)\n",
    "    n_airLiq = airLiqDF[i,2] +n_airLiq\n",
    "end\n",
    "\n",
    "naVend = (collect(naDF[:,1]))\n",
    "for i in 1:length(naVend)\n",
    "    n_na = naDF[i,2]+n_na\n",
    "end\n",
    "\n",
    "steamDF"
   ]
  },
  {
   "cell_type": "markdown",
   "metadata": {},
   "source": [
    "Set Up Model"
   ]
  },
  {
   "cell_type": "code",
   "execution_count": null,
   "metadata": {},
   "outputs": [
    {
     "ename": "LoadError",
     "evalue": "LoadError: UndefVarError: `@model` not defined in `Main`\nSuggestion: check for spelling errors or missing imports.\nin expression starting at c:\\Users\\flemm\\Documents\\Grad School\\MAE 298 (Bayesian Statistics)\\Homework\\Final Project\\Project Git\\ValveRejectionRates\\jl_notebook_cell_df34fa98e69747e1a8f8a730347b8e2f_X30sZmlsZQ==.jl:1",
     "output_type": "error",
     "traceback": [
      "LoadError: UndefVarError: `@model` not defined in `Main`\n",
      "Suggestion: check for spelling errors or missing imports.\n",
      "in expression starting at c:\\Users\\flemm\\Documents\\Grad School\\MAE 298 (Bayesian Statistics)\\Homework\\Final Project\\Project Git\\ValveRejectionRates\\jl_notebook_cell_df34fa98e69747e1a8f8a730347b8e2f_X30sZmlsZQ==.jl:1\n"
     ]
    }
   ],
   "source": [
    "@model function valveTesting(Vendors, Population, highPops) # rejects serviceMedium)\n",
    "    #additional functionality can be added to this, especially when considering that the probability of failing (p-1) is the sum of the probability of failing on a low pop (less dangerous) & a high pop (more dangerous)      \n",
    "    \n",
    "    \n",
    "    #hyper prior\n",
    "        μ ~ Beta(4, 2)\n",
    "        σ ~ Exponential(1)\n",
    "    \n",
    "        p = Vector{Real}(undef, Vendors)\n",
    "        n = Vector{Real}(undef, Vendors)\n",
    "    for i in 1:length(Vendors)\n",
    "        \n",
    "        #prior\n",
    "        n[i] = Population[1, i]\n",
    "        p[i] ~ Normal(μ, σ)\n",
    "        #distribution of valves passing given pass probability p and n trials\n",
    "        valvePass[i] ~ Binomial(n, p[i])\n",
    "    end\n",
    "end"
   ]
  },
  {
   "cell_type": "code",
   "execution_count": 20,
   "metadata": {},
   "outputs": [
    {
     "ename": "UndefVarError",
     "evalue": "UndefVarError: `valveTesting` not defined in `Main`\nSuggestion: check for spelling errors or missing imports.",
     "output_type": "error",
     "traceback": [
      "UndefVarError: `valveTesting` not defined in `Main`\n",
      "Suggestion: check for spelling errors or missing imports.\n",
      "\n",
      "Stacktrace:\n",
      " [1] top-level scope\n",
      "   @ c:\\Users\\flemm\\Documents\\Grad School\\MAE 298 (Bayesian Statistics)\\Homework\\Final Project\\Project Git\\ValveRejectionRates\\jl_notebook_cell_df34fa98e69747e1a8f8a730347b8e2f_X31sZmlsZQ==.jl:1"
     ]
    }
   ],
   "source": [
    "steam_model = valveTesting(steamDF[:,1], steamDF[:,2], steamDF[:,3])\n",
    "\n",
    "steam_posterior = sample(steam_model, NUTS(), 1000)"
   ]
  }
 ],
 "metadata": {
  "kernelspec": {
   "display_name": "Julia 1.11.2",
   "language": "julia",
   "name": "julia-1.11"
  },
  "language_info": {
   "file_extension": ".jl",
   "mimetype": "application/julia",
   "name": "julia",
   "version": "1.11.2"
  }
 },
 "nbformat": 4,
 "nbformat_minor": 2
}
